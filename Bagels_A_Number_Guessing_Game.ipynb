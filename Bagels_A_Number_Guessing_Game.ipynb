{
  "nbformat": 4,
  "nbformat_minor": 0,
  "metadata": {
    "colab": {
      "provenance": [],
      "authorship_tag": "ABX9TyMffbuI1NBQ5dLvuvMyCfbb",
      "include_colab_link": true
    },
    "kernelspec": {
      "name": "python3",
      "display_name": "Python 3"
    },
    "language_info": {
      "name": "python"
    }
  },
  "cells": [
    {
      "cell_type": "markdown",
      "metadata": {
        "id": "view-in-github",
        "colab_type": "text"
      },
      "source": [
        "<a href=\"https://colab.research.google.com/github/immortalRegis/random-projects/blob/main/Bagels_A_Number_Guessing_Game.ipynb\" target=\"_parent\"><img src=\"https://colab.research.google.com/assets/colab-badge.svg\" alt=\"Open In Colab\"/></a>"
      ]
    },
    {
      "cell_type": "markdown",
      "source": [
        "Bagels, a deductive logic game, you\n",
        "must guess a secret three-digit number\n",
        "based on clues. The game offers one of\n",
        "the following hints in response to your guess:\n",
        "“Pico” when your guess has a correct digit in the\n",
        "wrong place, “Fermi” when your guess has a correct\n",
        "digit in the correct place, and “Bagels” if your guess\n",
        "has no correct digits. You have 10 tries to guess the\n",
        "secret number."
      ],
      "metadata": {
        "id": "PiVe6GL3CCXS"
      }
    },
    {
      "cell_type": "code",
      "execution_count": null,
      "metadata": {
        "id": "tl7hVyqoB7TG"
      },
      "outputs": [],
      "source": [
        "import random\n",
        "\n",
        "def play_game():\n",
        "    number = str(random.randint(1, 9)) + str(random.randint(0,9)) + str(random.randint(0, 9))\n",
        "\n",
        "    print('I have thought up a number.')\n",
        "    print('You have 10 guesses to get it.\\n')\n",
        "\n",
        "    attempts = 1\n",
        "\n",
        "    while (attempts < 11):\n",
        "        guess = input(f'Guess #{attempts}: ')\n",
        "\n",
        "        while (len(guess) != 3) or (not guess[0].isdigit()) or (not guess[1].isdigit()) or (not guess[2].isdigit()):\n",
        "            print('Please enter a 3-digit number')\n",
        "            guess = input(f'Guess #{attempts}: ')\n",
        "\n",
        "        pos_one = ''\n",
        "        pos_two = ''\n",
        "        pos_three = ''\n",
        "\n",
        "        if (guess == number):\n",
        "            print('You got it!')\n",
        "            break\n",
        "        elif (guess[0] not in number) and (guess[1] not in number) and (guess[2] not in number):\n",
        "            print('Bagels')\n",
        "            continue\n",
        "        else:\n",
        "            if guess[0] in number:\n",
        "                if (guess[0] == number[0]):\n",
        "                    pos_one = 'Fermi'\n",
        "                else:\n",
        "                    pos_one = 'Pico'\n",
        "            if guess[1] in number:\n",
        "                if (guess[1] == number[1]):\n",
        "                    pos_two = 'Fermi'\n",
        "                else:\n",
        "                    pos_two = 'Pico'\n",
        "            if guess[2] in number:\n",
        "                if (guess[2] == number[2]):\n",
        "                    pos_three = 'Fermi'\n",
        "                else:\n",
        "                    pos_three = 'Pico'\n",
        "\n",
        "        values = [pos_one, pos_two, pos_three]\n",
        "        random.shuffle(values)\n",
        "\n",
        "        print(' '.join(values))\n",
        "        attempts = attempts + 1\n",
        "\n",
        "        if (attempts == 11):\n",
        "            print(f'The number was {number}')\n",
        "\n",
        "\n",
        "def intro():\n",
        "    print('I am thinking of a 3-digit number. Try to guess what it is.')\n",
        "    print('Here are some clues:')\n",
        "    print('When I say: That means:')\n",
        "    print('Pico     One digit is correct but in the wrong position.')\n",
        "    print('Fermi    One digit is correct and in the right position.')\n",
        "    print('Bagels   No digit is correct.')\n",
        "\n",
        "    play_game()\n",
        "\n",
        "    while True:\n",
        "        response = input('Do you want to play again? (yes or no)\\n')\n",
        "        response = response.strip().lower()\n",
        "        if (response == 'no'):\n",
        "            print('Thanks for playing')\n",
        "            break\n",
        "        elif(response == 'yes'):\n",
        "            play_game()\n",
        "        else:\n",
        "            continue\n",
        "\n",
        "\n",
        "\n",
        "intro()\n",
        "\n"
      ]
    }
  ]
}